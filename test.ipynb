{
 "cells": [
  {
   "cell_type": "code",
   "execution_count": 3,
   "metadata": {},
   "outputs": [
    {
     "name": "stdout",
     "output_type": "stream",
     "text": [
      "1/1 [==============================] - 0s 58ms/step\n",
      "Predicted Class Label: 1\n"
     ]
    }
   ],
   "source": [
    "import cv2\n",
    "import tensorflow as tf\n",
    "import numpy as np\n",
    "\n",
    "# Load the pre-trained model\n",
    "model = tf.keras.models.load_model(\"mask_prediction.h5\")\n",
    "\n",
    "# Specify the input image path\n",
    "input_image_path = \"mask_image.jpg\"\n",
    "\n",
    "# Read the input image\n",
    "input_image = cv2.imread(input_image_path)\n",
    "\n",
    "# Display the input image\n",
    "cv2.imshow(\"Input Image\", input_image)\n",
    "cv2.waitKey(0)\n",
    "cv2.destroyAllWindows()\n",
    "\n",
    "# Resize the input image to match the model's input size (128x128)\n",
    "input_image_resize = cv2.resize(input_image, (128, 128))\n",
    "\n",
    "# Normalize the input image\n",
    "input_image_scaled = input_image_resize / 255.0\n",
    "\n",
    "# Expand the dimensions of the input image to match the model's expected input shape\n",
    "input_image_scaled = np.expand_dims(input_image_scaled, axis=0)\n",
    "\n",
    "# Make predictions on the input image\n",
    "predictions = model.predict(input_image_scaled)\n",
    "\n",
    "# Get the predicted class label (0 for without mask, 1 for with mask)\n",
    "predicted_class = np.argmax(predictions)\n",
    "\n",
    "# Print the predicted class label\n",
    "print(\"Predicted Class Label:\", predicted_class)"
   ]
  },
  {
   "cell_type": "code",
   "execution_count": null,
   "metadata": {},
   "outputs": [],
   "source": []
  }
 ],
 "metadata": {
  "kernelspec": {
   "display_name": "Python 3",
   "language": "python",
   "name": "python3"
  },
  "language_info": {
   "codemirror_mode": {
    "name": "ipython",
    "version": 3
   },
   "file_extension": ".py",
   "mimetype": "text/x-python",
   "name": "python",
   "nbconvert_exporter": "python",
   "pygments_lexer": "ipython3",
   "version": "3.11.6"
  }
 },
 "nbformat": 4,
 "nbformat_minor": 2
}
